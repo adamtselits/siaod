{
 "cells": [
  {
   "cell_type": "markdown",
   "metadata": {},
   "source": [
    "# ������������ ������ �3\n",
    "## �������� ������� ������ ���1901 ��������� ����\n",
    "### ������� �1\n",
    "����������� ������ ������ ��������� � ������. �������� �����������\n",
    "����� ������ � ��������� � ����������. ������������� �����������\n",
    "������������� �������. ����������� ����������� ������ �����\n",
    "���������������� ��� ������������������ � ��������. ������� ����� ������\n",
    "������� ��������� ������ � �������� ��� �� �������� ������ �����������\n",
    "������� ������, ������������ � ��������� ����� ����������������.\n",
    "����������������.\n",
    "���������:\n",
    "1.�����-�������-������\n",
    "2.���������� ������-����"
   ]
  },
  {
   "cell_type": "markdown",
   "metadata": {},
   "source": [
    "### �������� �����-�������-������ (���)\n",
    "���� ���-������ � ��� ������ ������������ ���� �������� ������ � ������ ����� ���������� �� ��� ���������� ����������, ��� ��� ������� ������ �� ����� �������� � ������� ����������. ��� ���������� ������� ���������, ��� ���������� �����������, ��� ����������, ������� �������.\n",
    "\n",
    "�������-������� - ��� ������ �����, �������������, ��� ���������� ����� ��������, ������������ � � ���������. ��� ������, ����� ������ ��������� ������� ������ � ������� ����� ������� ���������� ������ � ������ �������� (�� �������� ����������� ���������� ������ � �����). ���� ����� ���������� �������� � ��������� �� ���������� �����, �� ����� ������ ����� ����� � ���� ������� (d[j-1]) � ����������� ������ ���� ����������� ������ �������� (������� ������ �������� ��������� ���� ����), ���� ���������� (��� ����������)."
   ]
  },
  {
   "cell_type": "code",
   "execution_count": 14,
   "metadata": {},
   "outputs": [],
   "source": [
    "import time\n",
    "start_time = time.monotonic()\n",
    "def predkomp(x):\n",
    "    d = {0:0}\n",
    "    for i in range(1,len(x)):\n",
    "        j = d[i-1]#��� ������ �� ��������\n",
    "        while j > 0 and x[j] != x[i]:\n",
    "            j = d[j-1]\n",
    "        if x[j] == x[i]:\n",
    "            j += 1\n",
    "        d[i] = j\n",
    "    return d\n",
    "\n",
    "\n",
    "def kmpSearch(s, x):\n",
    "    d = predkomp(x)\n",
    "    i = j = 0\n",
    "    while i<len(s) and j<len(x):\n",
    "        if x[j] == s[i]:\n",
    "            i+=1\n",
    "            j+=1\n",
    "        elif j==0:\n",
    "            i+=1\n",
    "        else:\n",
    "            j = d[j-1]\n",
    "    else:\n",
    "        if j == len(x):\n",
    "            return \"�����. ������� %d.\" %((i - j) + 1)\n",
    "        return \"�� �����!\"\n",
    "finish = time.time()\n",
    "temp1= time.monotonic() - start_time"
   ]
  },
  {
   "cell_type": "markdown",
   "metadata": {},
   "source": [
    "### �������� ������ - ����\n",
    "�������� ���� �������� - ������ ����� �� � ������, � � ����� ���������.\n",
    "����������� �� ������������, �� ������ ������� ��������� �� ������ ������� ��������� ������� �������."
   ]
  },
  {
   "cell_type": "code",
   "execution_count": 15,
   "metadata": {},
   "outputs": [],
   "source": [
    "import time\n",
    "start_time = time.monotonic()\n",
    "def forming_d(pattern):\n",
    "    \"\"\" ��������� ������ d.\"\"\"\n",
    "    d = [len(pattern) for i in range(1105)]\n",
    "    new_p = pattern[::-1]\n",
    " \n",
    "    for i in range(len(new_p)):\n",
    "        if d[ord(new_p[i])] != len(new_p):\n",
    "            continue\n",
    "        else:\n",
    "            d[ord(new_p[i])] = i\n",
    "    return d\n",
    " \n",
    "def search(string, pattern):\n",
    "    \"\"\" ����� ������ - ����.\"\"\"\n",
    " \n",
    "    d = forming_d(pattern)\n",
    "    # x - ������ ������� �� string\n",
    "    # j - ������ �� pattern\n",
    "    # k - ������ �� string\n",
    "    len_p = x = j = k = len(pattern)\n",
    "    # ����� ��������\n",
    "    counter = 0\n",
    " \n",
    "    while x <= len(string) and j > 0:\n",
    "        if pattern[j - 1] == string[k - 1]:\n",
    "            j -= 1\n",
    "            k -= 1\n",
    "        else:\n",
    "            x += d[ord(string[k - 1])]\n",
    "            k = x\n",
    "            j = len_p\n",
    "            counter += 1\n",
    " \n",
    "    if j <= 0:\n",
    "        return \"�����. ������� %d.\" % (k + 1)\n",
    "    else:\n",
    "        return \"�� �����!\"\n",
    "finish = time.time()\n",
    "temp2= time.monotonic() - start_time    "
   ]
  },
  {
   "cell_type": "markdown",
   "metadata": {},
   "source": [
    "\n",
    "### ���������� ������� ������"
   ]
  },
  {
   "cell_type": "code",
   "execution_count": 16,
   "metadata": {},
   "outputs": [],
   "source": [
    "import time\n",
    "start_time = time.monotonic()\n",
    "def poisk(string2, pattern2):\n",
    "    if string2.find(pattern2) != -1:\n",
    "        return \"�����. ������� %d.\" %(string2.find(pattern2) + 1)\n",
    "    else:\n",
    "        return \"�� �����!\"\n",
    "finish = time.time()\n",
    "temp3= time.monotonic() - start_time       "
   ]
  },
  {
   "cell_type": "markdown",
   "metadata": {},
   "source": [
    "### �������� ���� ���������"
   ]
  },
  {
   "cell_type": "code",
   "execution_count": 17,
   "metadata": {},
   "outputs": [
    {
     "name": "stdout",
     "output_type": "stream",
     "text": [
      "������� ������: je suis revenu hier de paris\n",
      "������� ���������: venu\n",
      "\n",
      "�����. ������� 11.\n",
      "������ :  0.0003710230002980097 s\n",
      "\n",
      "�����. ������� 11.\n",
      "������ :  0.0007568480004920275 s\n",
      "\n",
      "�����. ������� 11.\n",
      "������ :  0.00017505300002085278 s\n"
     ]
    }
   ],
   "source": [
    "string2 = string1 = string = input(\"������� ������: \")\n",
    "pattern2 = pattern1 = pattern = input(\"������� ���������: \")\n",
    "print(\"\")\n",
    "print(search(string, pattern))\n",
    "print (f'������ : ' , temp1 , 's')\n",
    "\n",
    "print(\"\")\n",
    "print(kmpSearch(string1, pattern1))\n",
    "print (f'������ : ' , temp2 , 's')\n",
    "\n",
    "print(\"\")\n",
    "print(poisk(string2, pattern2))\n",
    "print (f'������ : ' , temp3 , 's')"
   ]
  }
 ],
 "metadata": {
  "kernelspec": {
   "display_name": "Python 3",
   "language": "python",
   "name": "python3"
  },
  "language_info": {
   "codemirror_mode": {
    "name": "ipython",
    "version": 3
   },
   "file_extension": ".py",
   "mimetype": "text/x-python",
   "name": "python",
   "nbconvert_exporter": "python",
   "pygments_lexer": "ipython3",
   "version": "3.8.5"
  }
 },
 "nbformat": 4,
 "nbformat_minor": 4
}