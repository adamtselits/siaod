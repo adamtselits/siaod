{
 "cells": [
  {
   "cell_type": "markdown",
   "metadata": {},
   "source": [
    "# ������������ ������ N_1\n",
    "## ��������� ������� ������ ���1901 ��������� ���� \n",
    "### �������� N_1\n",
    "�������� ������� �������\n",
    "1.������� Jupyter Notebook �� ��������� �������������: Lab1_������_���\n",
    "2.������� ����� ������ � ������� ������ \"+\"\n",
    "3.� ��������� ������ �� ��������� ���� ����� ��������� ���������� �����,������� ������������ ������ � ������ ���� ���, ����� ���� �������� ��� ���� ������ � �������� ��������� ���: print(\"Hello, World!\")\n",
    "4.� ������� ������ \"Run\" ��������� ���������� ���� �����.\n",
    "5.����� ���������� � ��� ������ ����������������� ������ � ����������� � ������ ����������� �Hello, World!�"
   ]
  },
  {
   "cell_type": "code",
   "execution_count": 110,
   "metadata": {},
   "outputs": [
    {
     "name": "stdout",
     "output_type": "stream",
     "text": [
      "Hello, World\n"
     ]
    }
   ],
   "source": [
    "print(\"Hello, World\")"
   ]
  },
  {
   "cell_type": "code",
   "execution_count": 111,
   "metadata": {},
   "outputs": [],
   "source": [
    "import random"
   ]
  },
  {
   "cell_type": "markdown",
   "metadata": {},
   "source": [
    "### �������� N_2\n",
    "�������� ������� �������\n",
    "�������� ��������� ��������� ������(�����������), ������� ��������� ������������ ��������� m, n, min_limit, max_limit, ��� m � n ��������� ������ �������, � min_lim � max_lim - ����������� � ������������ �������� ��� ������������� ����� . �� ��������� ��� ���������� ���������� ��������� ��������� ��������:\n",
    "m = 50\n",
    "n = 50\n",
    "min_limit = -250\n",
    "max_limit = 1000 + (����� ������ ��������)"
   ]
  },
  {
   "cell_type": "markdown",
   "metadata": {},
   "source": [
    "### �������� N_3"
   ]
  },
  {
   "cell_type": "code",
   "execution_count": 112,
   "metadata": {},
   "outputs": [],
   "source": [
    "import random"
   ]
  },
  {
   "cell_type": "code",
   "execution_count": 113,
   "metadata": {},
   "outputs": [],
   "source": [
    "#���������� �������\n",
    "def selection_sort(arr):\n",
    "    for i in range(0, len(arr) - 1):\n",
    "        local_min = i\n",
    "        for j in range(i + 1, len(arr)):\n",
    "            if arr[j] < arr[local_min]:\n",
    "                local_min = j\n",
    "        arr[i], arr[local_min] = arr[local_min], arr[i]\n",
    "    return arr"
   ]
  },
  {
   "cell_type": "code",
   "execution_count": 114,
   "metadata": {},
   "outputs": [],
   "source": [
    "#���������� ���������\n",
    "def insertion_sort(arr):\n",
    "    for i in range(1, len(arr)):\n",
    "        temp = arr[i]\n",
    "        j = i - 1\n",
    "        while j >= 0 and temp < arr[j]:\n",
    "            arr[j + 1] = arr[j]\n",
    "            j = j - 1\n",
    "        arr[j + 1] = temp\n",
    "    return arr"
   ]
  },
  {
   "cell_type": "code",
   "execution_count": 115,
   "metadata": {},
   "outputs": [],
   "source": [
    "# ���������� ������� ��� ���������\n",
    "def bubble_sort(arr):\n",
    "    swapped = True\n",
    "    x = -1\n",
    "    while swapped:\n",
    "        swapped = False\n",
    "        x = x + 1\n",
    "        for i in range(1, len(arr) - x):\n",
    "            if arr[i - 1] > arr[i]:\n",
    "                arr[i - 1], arr[i] = arr[i], arr[i - 1]\n",
    "                swapped = True\n",
    "    return arr"
   ]
  },
  {
   "cell_type": "code",
   "execution_count": 116,
   "metadata": {},
   "outputs": [],
   "source": [
    "#���������� �����\n",
    "def shell_sort(arr):\n",
    "    gap = len(arr) // 2\n",
    "    while gap > 0:\n",
    "\n",
    "        for i in range(gap, len(arr)):\n",
    "            temp = arr[i]\n",
    "            j = i\n",
    "\n",
    "            while j >= gap and arr[j - gap] > temp:\n",
    "                arr[j] = arr[j - gap]\n",
    "                j = j - gap\n",
    "            arr[j] = temp\n",
    "\n",
    "        gap = gap // 2\n",
    "\n",
    "    return arr"
   ]
  },
  {
   "cell_type": "code",
   "execution_count": 117,
   "metadata": {},
   "outputs": [],
   "source": [
    "#������� ����������\n",
    "def partition(array, begin, end):\n",
    "    pivot = begin\n",
    "    for i in range(begin+1, end+1):\n",
    "        if array[i] <= array[begin]:\n",
    "            pivot += 1\n",
    "            array[i], array[pivot] = array[pivot], array[i]\n",
    "    array[pivot], array[begin] = array[begin], array[pivot]\n",
    "    return pivot\n",
    "\n",
    "\n",
    "def quick_sort(array, begin=0, end=None):\n",
    "    if end is None:\n",
    "        end = len(array) - 1\n",
    "\n",
    "    def _quicksort(array, begin, end):\n",
    "        if begin >= end:\n",
    "            return\n",
    "        pivot = partition(array, begin, end)\n",
    "        _quicksort(array, begin, pivot - 1)\n",
    "        _quicksort(array, pivot + 1, end)\n",
    "\n",
    "    return _quicksort(array, begin, end)"
   ]
  },
  {
   "cell_type": "code",
   "execution_count": 118,
   "metadata": {},
   "outputs": [],
   "source": [
    "#��������� ����������\n",
    "def tournamentSort(arr):\n",
    "    tree = [None] * 2 * (len(arr) + len(arr) % 2)\n",
    "    index = len(tree) - len(arr) - len(arr) % 2\n",
    "\n",
    "    for i, v in enumerate(arr):\n",
    "        tree[index + i] = (i, v)\n",
    "\n",
    "    for j in range(len(arr)):\n",
    "        n = len(arr)\n",
    "        index = len(tree) - len(arr) - len(arr) % 2\n",
    "        while index > -1:\n",
    "            n = (n + 1) // 2\n",
    "            for i in range(n):\n",
    "                i = max(index + i * 2, 1)  # �� ��������� �������� index + i * 2 = 0 \n",
    "                if tree[i] is not None and tree[i + 1] is not None:\n",
    "                    if tree[i][1] < tree[i + 1][1]:\n",
    "                        tree[i // 2] = tree[i]\n",
    "                    else:\n",
    "                        tree[i // 2] = tree[i + 1]\n",
    "                else:\n",
    "                    tree[i // 2] = tree[i] if tree[i] is not None else tree[i + 1]\n",
    "            index -= n\n",
    "\n",
    "        index, x = tree[0]\n",
    "        arr[j] = x\n",
    "        tree[len(tree) - len(arr) - len(arr) % 2 + index] = None\n",
    "\n",
    "    for i in range(len(arr) - 1):\n",
    "        if arr[i] > arr[i + 1]:\n",
    "            arr[i], arr[i + 1] = arr[i + 1], arr[i]\n",
    "        else:\n",
    "            break\n",
    "    return arr"
   ]
  },
  {
   "cell_type": "code",
   "execution_count": 119,
   "metadata": {},
   "outputs": [],
   "source": [
    "#������������� ����������\n",
    "def heapify(arr, n, i):\n",
    "    largest = i # ���������������� ����� ������� ��� ������ \n",
    "    l = 2 * i + 1   # left = 2*i + 1\n",
    "    r = 2 * i + 2   # right = 2*i + 2\n",
    "    if l < n and arr[i] < arr[l]:\n",
    "        largest = l\n",
    "    if r < n and arr[largest] < arr[r]:\n",
    "        largest = r\n",
    "    if largest != i:\n",
    "        arr[i],arr[largest] = arr[largest],arr[i] # ���� replace\n",
    "        heapify(arr, n, largest)\n",
    "\n",
    "\n",
    "def heapSort(arr):\n",
    "    n = len(arr)\n",
    "\n",
    "    # ���������� max-heap.(Construire max-heap.)\n",
    "    for i in range(n, -1, -1):\n",
    "        heapify(arr, n, i)\n",
    "\n",
    "    # ���� �� ������ ��������� ��������\n",
    "    for i in range(n-1, 0, -1):\n",
    "        arr[i], arr[0] = arr[0], arr[i] #replace\n",
    "        heapify(arr, i, 0)"
   ]
  },
  {
   "cell_type": "code",
   "execution_count": 120,
   "metadata": {},
   "outputs": [],
   "source": [
    "import random"
   ]
  },
  {
   "cell_type": "code",
   "execution_count": 121,
   "metadata": {},
   "outputs": [
    {
     "name": "stdout",
     "output_type": "stream",
     "text": [
      "���-�� ��������: 1000\n",
      "���-�� �����: 1000\n",
      "����������� �������: -5000\n",
      "������������ �������: 5000\n"
     ]
    }
   ],
   "source": [
    "#�������������\n",
    "def random_matrix(m = int(input(\"���-�� ��������: \")) , n = int(input(\"���-�� �����: \")) , min_limit = int(input(\"����������� �������: \")) , max_limit = int(input(\"������������ �������: \")) ):\n",
    "    return [[random.randint(min_limit, max_limit) for row in range(n)] for column in range(m)]\n",
    "arr = random_matrix(m , max_limit)"
   ]
  },
  {
   "cell_type": "code",
   "execution_count": 122,
   "metadata": {},
   "outputs": [
    {
     "name": "stdout",
     "output_type": "stream",
     "text": [
      "Algorithm                     Time\n",
      "____________________________________________________________________\n",
      "���������� ���������          1.5942759928293528e-05\n",
      "���������� �������            0.00024258379999082537\n",
      "���������� ��������           0.0003388959199946839\n",
      "C��������� �����              0.0021335159400769042\n",
      "������������� ����������      0.00902790908003226\n",
      "������� ����������            0.07501767238005413\n",
      "���������� �������            0.07565636810002616\n",
      "��������� ����������          0.931559875059902\n"
     ]
    }
   ],
   "source": [
    "import random\n",
    "import time\n",
    "\n",
    "SORT_FUNCTIONS = {\n",
    "    '���������� �������': selection_sort,\n",
    "    '���������� ��������': insertion_sort,\n",
    "    '���������� �������': bubble_sort,\n",
    "    'C��������� �����': shell_sort,\n",
    "    '������� ����������': quick_sort,\n",
    "    '��������� ����������': tournamentSort,\n",
    "    '������������� ����������': heapSort,\n",
    "    '���������� ���������': sorted\n",
    "}\n",
    "\n",
    "def print_comparison(comparison):\n",
    "    largest_name_len = len(max(comparison.keys(), key=len))\n",
    "    largest_name_len += 6\n",
    "\n",
    "    heading = 'Algorithm'.ljust(largest_name_len) + 'Time'\n",
    "    print(heading)\n",
    "    print('__' * len(heading))\n",
    "    for algo, time_taken in comparison.items():\n",
    "        print(f'{algo:<{largest_name_len}}{time_taken}')\n",
    "\n",
    "time_taken = {}\n",
    "samples = random_matrix(50, 1003)\n",
    "for algo_name, sorter in SORT_FUNCTIONS.items():\n",
    "    samples_copy = samples.copy()\n",
    "    start = time.perf_counter()\n",
    "    for sample in samples_copy:\n",
    "        sorter(sample)\n",
    "    end = time.perf_counter()\n",
    "\n",
    "    time_taken[algo_name] = (end - start) / len(samples)\n",
    "\n",
    "time_taken_sorted = dict(sorted(time_taken.items(), key=lambda kv: kv[1]))\n",
    "print_comparison(time_taken_sorted)"
   ]
  },
  {
   "cell_type": "markdown",
   "metadata": {},
   "source": [
    "### �������� N_4\n",
    "������� ��������� ����������� �� github, � �������� ����������� ������� � .ipynb �������li. https://github.com/adamtselits/siaod/upload/main"
   ]
  }
 ],
 "metadata": {
  "kernelspec": {
   "display_name": "Python 3",
   "language": "python",
   "name": "python3"
  },
  "language_info": {
   "codemirror_mode": {
    "name": "ipython",
    "version": 3
   },
   "file_extension": ".py",
   "mimetype": "text/x-python",
   "name": "python",
   "nbconvert_exporter": "python",
   "pygments_lexer": "ipython3",
   "version": "3.8.5"
  }
 },
 "nbformat": 4,
 "nbformat_minor": 4
}